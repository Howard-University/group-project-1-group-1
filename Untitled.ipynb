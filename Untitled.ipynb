{
 "cells": [
  {
   "cell_type": "markdown",
   "id": "c32b621d-900a-4507-8d87-2db3b8c92a9e",
   "metadata": {},
   "source": [
    "# Report on Mobile Device Usage and User Behavior Data\n",
    "\n",
    "## 1. **Introduction**\n",
    "This report provides an analysis of the *Mobile Device Usage and User Behavior Data* dataset, sourced from Kaggle. The dataset contains information on user demographics, device types, and various metrics related to mobile usage and battery consumption. The main objective of this report is to explore and analyze the dataset using Python's Pandas and NumPy libraries, perform data cleaning, and derive meaningful insights about user behavior.\n",
    "\n",
    "## 2. **Data Loading and Initial Exploration**\n",
    "The dataset was loaded using the `read_csv()` function in Pandas and explored using basic functions such as `head()`, `print()`, and `describe()` to understand its structure. The dataset consists of 11 columns and 700 rows, covering aspects such as device model, operating system, app usage time, screen-on time, battery drain, and more.\n",
    "\n",
    "### Key Columns:\n",
    "- Device Model\n",
    "- Operating System\n",
    "- App Usage Time (min/day)\n",
    "- Screen On Time (hours/day)\n",
    "- Battery Drain (mAh/day)\n",
    "- Number of Apps Installed\n",
    "- Data Usage (MB/day)\n",
    "- Age\n",
    "- Gender\n",
    "- User Behavior Class\n",
    "\n",
    "## 3. **Data Cleaning**\n",
    "To ensure the data was suitable for analysis, missing values and duplicate rows were checked using the `isnull()` and `duplicated()` functions respectively. There were no missing or duplicate values found in the dataset, which allowed for a smooth transition into data manipulation and analysis.\n",
    "\n",
    "## 4. **Data Manipulation and Analysis**\n",
    "Several operations were performed to gain deeper insights into the data:\n",
    "\n",
    "### 4.1 Basic Statistical Analysis\n",
    "The mean, median, and standard deviation of key columns (App Usage Time, Screen On Time, Number of Apps Installed, and Age) were calculated:\n",
    "\n",
    "- **Mean App Usage Time**: 271.13 minutes/day  \n",
    "- **Median Screen On Time**: 4.9 hours/day  \n",
    "- **Standard Deviation of Age**: 12.01 years  \n",
    "\n",
    "### 4.2 Data Filtering and Selection\n",
    "Data filtering was used to identify users with more than 300 minutes of app usage per day. This subset was used to understand the behavior of heavy app users, showing that 275 out of 700 users have high app usage time.\n",
    "\n",
    "### 4.3 Grouping and Aggregation\n",
    "Using the `groupby()` function, the dataset was grouped by the operating system to analyze user behavior based on their devices. The analysis revealed that:\n",
    "- There are more Android users (554) compared to iOS users (146).\n",
    "- The maximum app usage time for Android users is 598 minutes/day, while for iOS users it is 597 minutes/day.\n",
    "- The standard deviation of app usage time is slightly higher for Android users (~179 minutes) compared to iOS users (~169 minutes).\n",
    "\n",
    "## 5. **Data Export**\n",
    "The cleaned and manipulated dataset was exported as a CSV file using the `to_csv()` function, ensuring the data is stored for future reference or further analysis.\n",
    "\n",
    "## 6. **Conclusion**\n",
    "The analysis provided valuable insights into mobile device usage patterns based on user demographics and device types. The findings suggest that Android users tend to have slightly higher app usage times and greater variability in their usage compared to iOS users. This report can serve as a foundation for further studies on mobile device behavior and optimization of battery performance.\n"
   ]
  },
  {
   "cell_type": "code",
   "execution_count": null,
   "id": "a8fbe179-5b82-49aa-86cc-a620cad19fb2",
   "metadata": {},
   "outputs": [],
   "source": []
  }
 ],
 "metadata": {
  "kernelspec": {
   "display_name": "anaconda-2022.05-py39",
   "language": "python",
   "name": "conda-env-anaconda-2022.05-py39-py"
  },
  "language_info": {
   "codemirror_mode": {
    "name": "ipython",
    "version": 3
   },
   "file_extension": ".py",
   "mimetype": "text/x-python",
   "name": "python",
   "nbconvert_exporter": "python",
   "pygments_lexer": "ipython3",
   "version": "3.9.12"
  }
 },
 "nbformat": 4,
 "nbformat_minor": 5
}
